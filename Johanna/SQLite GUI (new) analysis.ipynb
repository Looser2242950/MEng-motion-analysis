{
 "cells": [
  {
   "cell_type": "markdown",
   "metadata": {},
   "source": [
    "# SQLite GUI "
   ]
  },
  {
   "cell_type": "markdown",
   "metadata": {},
   "source": [
    "# Setup"
   ]
  },
  {
   "cell_type": "markdown",
   "metadata": {},
   "source": [
    "import all packages needed"
   ]
  },
  {
   "cell_type": "code",
   "execution_count": 1,
   "metadata": {},
   "outputs": [],
   "source": [
    "import numpy as np\n",
    "import sys\n",
    "import btk\n",
    "import sqlite3\n",
    "import json\n",
    "from tkinter import *\n",
    "from tkinter import filedialog \n",
    "import os.path "
   ]
  },
  {
   "cell_type": "markdown",
   "metadata": {},
   "source": [
    "unless stated the filenames are all none values (null) and the data is not a full clean cycle.\n",
    "The list numTrialslist will be populated by \"Trial 1\", \"Trial 2\", etc depending on what are uploaded"
   ]
  },
  {
   "cell_type": "code",
   "execution_count": 2,
   "metadata": {},
   "outputs": [],
   "source": [
    "filename1 = None\n",
    "filename2 = None\n",
    "filename3 = None\n",
    "filename4 = None\n",
    "filename5 = None\n",
    "filename6 = None\n",
    "cleanleft1 = \"No\"\n",
    "cleanright1 = \"No\"\n",
    "cleanleft2 = \"No\"\n",
    "cleanright2 = \"No\"\n",
    "cleanleft3 = \"No\"\n",
    "cleanright3 = \"No\"\n",
    "cleanleft4 = \"No\"\n",
    "cleanright4 = \"No\"\n",
    "cleanleft5 = \"No\"\n",
    "cleanright5 = \"No\"\n",
    "cleanleft6 = \"No\"\n",
    "cleanright6 = \"No\"\n",
    "numTrialslist = []"
   ]
  },
  {
   "cell_type": "markdown",
   "metadata": {},
   "source": [
    "Initiate the connection to the SQLite database. USe memory for testing but connect to the database when using."
   ]
  },
  {
   "cell_type": "code",
   "execution_count": 3,
   "metadata": {},
   "outputs": [],
   "source": [
    "\"\"\"Start SQLite Connection\"\"\"\n",
    "conn = sqlite3.connect(':memory:')\n",
    "#conn = sqlite3.connect('MotionAnalysis14.db')\n",
    "c=conn.cursor()"
   ]
  },
  {
   "cell_type": "markdown",
   "metadata": {},
   "source": [
    "### *TEMPORARY*\n",
    "Used to create the tables. This will be in another file for actual use"
   ]
  },
  {
   "cell_type": "markdown",
   "metadata": {},
   "source": [
    "**Table 1: Patient Data:** \n",
    "- ID\n",
    "- Dominant_Limb\n",
    "- Patient_Type\n",
    "- Month\n",
    "- Affected_Limb\n",
    "- Filename_Gait_Trial_1\n",
    "- Filename_Gait_Trial_2\n",
    "- Filename_Gait_Trial_3\n",
    "- Filename_Gait_Trial_4\n",
    "- Filename_Gait_Trial_5\n",
    "- Filename_Gait_Trial_6\n",
    "\n",
    "**Table 2: Gait_Table:** \n",
    "- Filename\n",
    "- Complete_Left_Cycle\n",
    "- Complete_Right_Cycle\n",
    "- Left_Footstrike_Index\n",
    "- Left_FootOff_Index\n",
    "- Right_Footstrike_Index\n",
    "- Right_FootOff_Index\n",
    "\n",
    "each variable has a seperate column for the limb and axis for example:\n",
    "- Left_Knee_Angle_x\n",
    "- Left_Knee_Angle_y\n",
    "- Left_Knee_Angle_z\n",
    "\n",
    "\n",
    "- {L/R}_Knee_Moment_{axis}\n",
    "- {LR}_Knee_Force_{axis}\n",
    "- {LR}_Knee_Power_{axis}\n",
    "- {LR}_Hip_Angle_{axis}\n",
    "- {LR}_Hip_Moment_{axis}\n",
    "- {LR}_Hip_Force_{axis}\n",
    "- {LR}_Hip_Power_{axis}\n",
    "- {LR}_Ankle_Angle_{axis}\n",
    "- {LR}_Ankle_Moment_{axis}\n",
    "- {LR}_Ankle_Force_{axis}\n",
    "- {LR}_Ankle_Power_{axis}\n",
    "- {LR}_Foot_Progression_Angle_{axis}\n",
    "- {LR}_GRF_{axis}\n",
    "- {LR}_NGRF_{axis}\n",
    "- {LR}_pelvis_Angle_{axis}\n",
    "- {LR}_COM_{axis}"
   ]
  },
  {
   "cell_type": "code",
   "execution_count": null,
   "metadata": {},
   "outputs": [],
   "source": [
    "\n",
    "def create_patient_data_table():\n",
    "    c.execute(\"\"\"CREATE TABLE IF NOT EXISTS Patient_Data\n",
    "              (ID TEXT PRIMARY KEY, Dominant_Limb TEXT, Patient_Type TEXT, \n",
    "              Month TEXT, Affected_Limb TEXT,\n",
    "              Filename_Gait_Trial_1 TEXT, Filename_Gait_Trial_2 TEXT, Filename_Gait_Trial_3 TEXT,\n",
    "              Filename_Gait_Trial_4 TEXT,Filename_Gait_Trial_5 TEXT, Filename_Gait_Trial_6 TEXT\n",
    "              )\"\"\")\n",
    "              #add Filename_STS_Trial_1,.... for different movements             \n",
    "def create_Gait_Table():\n",
    "        c.execute(\"\"\"CREATE TABLE IF NOT EXISTS Gait_Table\n",
    "              (Filename TEXT, Complete_Left_Cycle TEXT, Complete_Right_Cycle TEXT,\n",
    "              Left_Footstrike_Index TEXT, Left_FootOff_Index TEXT,\n",
    "              Right_Footstrike_Index TEXT, Right_FootOff_Index TEXT)\"\"\")            \n",
    "def columns_Gait_Table():\n",
    "     for LR in [\"Left\", \"Right\"]:\n",
    "         for axis in [\"x\", \"y\", \"z\"]:\n",
    "             c.execute(f\"\"\"ALTER TABLE Gait_Table ADD COLUMN {LR}_Knee_Angle_{axis} TEXT\"\"\")\n",
    "             c.execute(f\"\"\"ALTER TABLE Gait_Table ADD COLUMN {LR}_Knee_Moment_{axis} TEXT\"\"\")\n",
    "             c.execute(f\"\"\"ALTER TABLE Gait_Table ADD COLUMN {LR}_Knee_Force_{axis} TEXT\"\"\")\n",
    "             c.execute(f\"\"\"ALTER TABLE Gait_Table ADD COLUMN {LR}_Knee_Power_{axis} TEXT\"\"\")\n",
    "             c.execute(f\"\"\"ALTER TABLE Gait_Table ADD COLUMN {LR}_Hip_Angle_{axis} TEXT\"\"\")\n",
    "             c.execute(f\"\"\"ALTER TABLE Gait_Table ADD COLUMN {LR}_Hip_Moment_{axis} TEXT\"\"\")\n",
    "             c.execute(f\"\"\"ALTER TABLE Gait_Table ADD COLUMN {LR}_Hip_Force_{axis} TEXT\"\"\")\n",
    "             c.execute(f\"\"\"ALTER TABLE Gait_Table ADD COLUMN {LR}_Hip_Power_{axis} TEXT\"\"\")\n",
    "             c.execute(f\"\"\"ALTER TABLE Gait_Table ADD COLUMN {LR}_Ankle_Angle_{axis} TEXT\"\"\")\n",
    "             c.execute(f\"\"\"ALTER TABLE Gait_Table ADD COLUMN {LR}_Ankle_Moment_{axis} TEXT\"\"\")\n",
    "             c.execute(f\"\"\"ALTER TABLE Gait_Table ADD COLUMN {LR}_Ankle_Force_{axis} TEXT\"\"\")\n",
    "             c.execute(f\"\"\"ALTER TABLE Gait_Table ADD COLUMN {LR}_Ankle_Power_{axis} TEXT\"\"\")\n",
    "             c.execute(f\"\"\"ALTER TABLE Gait_Table ADD COLUMN {LR}_Foot_Progression_Angle_{axis} TEXT\"\"\")\n",
    "             c.execute(f\"\"\"ALTER TABLE Gait_Table ADD COLUMN {LR}_GRF_{axis} TEXT\"\"\")\n",
    "             c.execute(f\"\"\"ALTER TABLE Gait_Table ADD COLUMN {LR}_NGRF_{axis} TEXT\"\"\")\n",
    "             c.execute(f\"\"\"ALTER TABLE Gait_Table ADD COLUMN {LR}_pelvis_Angle_{axis} TEXT\"\"\")\n",
    "             c.execute(f\"\"\"ALTER TABLE Gait_Table ADD COLUMN {LR}_COM_{axis} TEXT\"\"\")             \n",
    "              \n",
    "create_patient_data_table()\n",
    "create_Gait_Table()\n",
    "columns_Gait_Table()"
   ]
  },
  {
   "cell_type": "markdown",
   "metadata": {},
   "source": [
    "Setup the GUI window (root)\\\n",
    "Root > MainFrame > Canvas > ScrollFrame > all the internal frames \\\n",
    "The scrollbar is in the MainFrame but Scrolls the canvas (and therefore the ScrollFrame and all the frames within)\n"
   ]
  },
  {
   "cell_type": "code",
   "execution_count": 4,
   "metadata": {},
   "outputs": [],
   "source": [
    "\"\"\"Setup GUI and Frames\"\"\"\n",
    "root = Tk()\n",
    "MainFrame = Frame(root, bg = \"blue\")\n",
    "MainFrame.pack(fill = BOTH) \n",
    "\n",
    "mycanvas = Canvas(MainFrame)\n",
    "mycanvas.pack(side = LEFT, fill = BOTH, expand =True)\n",
    "scroll_y = Scrollbar(MainFrame, orient = \"vertical\", command = mycanvas.yview)\n",
    "scroll_y.pack(side = RIGHT, fill = BOTH)\n",
    "mycanvas.configure(width = 860, height = 500)\n",
    "mycanvas.configure(yscrollcommand = scroll_y.set)\n",
    "mycanvas.bind('<Configure>', lambda e: mycanvas.configure(scrollregion = mycanvas.bbox(\"all\")) )\n",
    "ScrollFrame = Frame(mycanvas, bg = \"DodgerBlue4\")\n",
    "ScrollFrame.pack(fill = BOTH)\n",
    "mycanvas.create_window((0,0), window = ScrollFrame, anchor = \"nw\")\n",
    "\n",
    "FrameLabel = Frame(ScrollFrame, bg = \"DodgerBlue3\", bd = 6)\n",
    "FrameLabel.pack()\n",
    "FrameTrial1 = Frame(ScrollFrame, bg = \"ivory3\", bd = 6)\n",
    "FrameTrial1.pack()\n",
    "FrameTrial2 = Frame(ScrollFrame, bg = \"ghost white\", bd = 6)\n",
    "FrameTrial2.pack()\n",
    "FrameTrial3 = Frame(ScrollFrame, bg = \"ivory3\", bd = 6)\n",
    "FrameTrial3.pack()\n",
    "FrameTrial4 = Frame(ScrollFrame, bg = \"ghost white\", bd = 6)\n",
    "FrameTrial4.pack()\n",
    "FrameTrial5 = Frame(ScrollFrame, bg = \"ivory3\", bd = 6)\n",
    "FrameTrial5.pack()\n",
    "FrameTrial6 = Frame(ScrollFrame, bg = \"ghost white\", bd = 6)\n",
    "FrameTrial6.pack()\n",
    "FrameInfo = Frame(ScrollFrame, bg = \"DodgerBlue3\", bd = 6)\n",
    "FrameInfo.pack()\n",
    "FrameClose = Frame(ScrollFrame, bg = \"DeepSkyBlue2\")\n",
    "FrameClose.pack()"
   ]
  },
  {
   "cell_type": "markdown",
   "metadata": {},
   "source": []
  },
  {
   "cell_type": "markdown",
   "metadata": {},
   "source": [
    "# Define Functions"
   ]
  },
  {
   "cell_type": "markdown",
   "metadata": {},
   "source": [
    "Repeated 6 times\n",
    "\n",
    "- Updates the previously defined filename from \"None\" to the full file directory\n",
    "- updates the label to show \"File Opened: (filename)\"\n",
    "- Ads to the list NumTrialsList\n",
    "\n",
    "### *Needs work*\n",
    "- remove the directory to just have the filename\n",
    "- change directory to hispital directory\n",
    "\n"
   ]
  },
  {
   "cell_type": "code",
   "execution_count": null,
   "metadata": {},
   "outputs": [],
   "source": [
    "def browseFiles1(): \n",
    "    global filename1\n",
    "    filename1 = os.path.basename(filedialog.askopenfilename(\n",
    "        initialdir = \"C:/Users/johan/Documents/MEng FYP/C3D_files\", \n",
    "        title = \"Select a File\", \n",
    "        filetypes = ((\"C3D files\",\"*.c3d*\"),\n",
    "                     (\"all files\", \"*.*\"))))\n",
    "    label_file_explorer1.configure(text=\"File Opened: \"+filename1)\n",
    "    numTrialslist.append(\"Trial 1\")"
   ]
  },
  {
   "cell_type": "markdown",
   "metadata": {},
   "source": [
    "**extractintoDict**\n",
    "1. Takes in the filename and the TrialNum (ie. \"Trial 1\"). \n",
    "2. Creates a btk acquisition object (trialacq)\n",
    "3. Creates two more layers of the dictionary (Trialnum and Limb) and calls the function extract values to populate these with another layer of dictionary and the arrays corresponding to the variables\n",
    "4. Creates dictionary keys with empty list values within Trialnum for the index vaues of the events (footstrike and foot off)\n",
    "5. Gets the \"start frame\" number which can be used to connect the index of the events to the index of the values collected\n",
    "\n",
    "\n",
    "6. For every event recorded, the loop identifies whether its a Foot Strike of Foot off using GetLabel() and an if statement. Within this loop the GetContext() and another if statements differentiates whether it is a left or right limb event. The Frame value of each event is found using GetFrame. The start frame value found in step 5 is subtracted to from the event frame number to find the index that the event occured at. This value is stored in the dictionary in the initialised lists we set up in step 4. More than one event index can be stored per eventtype/limb\n",
    "\n",
    "\n",
    "5. An if statement determines if there is at least 2 of the same limb foot strike value in the list. If yes, there is a complete footstrike to footstrike cycle and therefore the data can be normalised using the cutcycle function to exclude any data outside the full cycle. If not a full cycle, nothing is cut from the data.\n",
    "\n",
    "6. For loop that sorts th events in chronological order\n",
    "\n",
    "7. The final for loop breaks the arrays stored in the dictionary into seperate x, y, and z arrays and turns them into lists\n",
    "\n",
    "\n",
    "8. Gets the Paitent ID from the file and updates the entry widget in the patient info section. This technically overwrites itself each time but should all be the same\n",
    "\n",
    "\n",
    "**extractvalues**\n",
    "simply extracts all the data from each variable and populates the dictionary\n",
    "\n",
    "**cutcycle**\n",
    "fucntion takes the index of the first and second footstrikes and cuts the data to include only the values between them"
   ]
  },
  {
   "cell_type": "code",
   "execution_count": null,
   "metadata": {},
   "outputs": [],
   "source": [
    "\n",
    "#EXCTRACT AND NORMALISE DATA\n",
    "def cutcycle(footstrike, data):\n",
    "    footstrike1 = footstrike[0]\n",
    "    footstrike2 = footstrike[1]\n",
    "    data1 = (data[footstrike1:footstrike2])\n",
    "    return data1\n",
    "    \n",
    "def extractvalues(trial):\n",
    "    #extracts al the arrays\n",
    "    #can be used for all trials, just needs to be instantiated with the correct trial\n",
    "    x = dict();  \n",
    "    x[\"KneeAngle\"]= (trial.GetPoint(\"LKneeAngles\")).GetValues()\n",
    "    x[\"KneeForce\"]= (trial.GetPoint(\"LKneeForce\")).GetValues()\n",
    "    x[\"KneeMoment\"]= (trial.GetPoint(\"LKneeMoment\")).GetValues()\n",
    "    x[\"KneePower\"]= (trial.GetPoint(\"LKneePower\")).GetValues() \n",
    "    x[\"HipAngle\"]= ((trial.GetPoint(\"LHipAngles\")).GetValues())\n",
    "    x[\"HipForce\"]= (trial.GetPoint(\"LHipForce\")).GetValues()\n",
    "    x[\"HipMoment\"]= (trial.GetPoint(\"LHipMoment\")).GetValues()\n",
    "    x[\"HipPower\"]= (trial.GetPoint(\"LHipPower\")).GetValues() \n",
    "    x[\"AnkleAngle\"]= (trial.GetPoint(\"LAnkleAngles\")).GetValues()\n",
    "    x[\"AnkleForce\"]= (trial.GetPoint(\"LAnkleForce\")).GetValues()\n",
    "    x[\"AnkleMoment\"]= (trial.GetPoint(\"LAnkleMoment\")).GetValues()\n",
    "    x[\"AnklePower\"]= (trial.GetPoint(\"LAnklePower\")).GetValues()    \n",
    "    x[\"FootProgressAngle\"] = (trial.GetPoint(\"LFootProgressAngles\")).GetValues()\n",
    "    x[\"GRF\"] = (trial.GetPoint(\"LGroundReactionForce\")).GetValues()\n",
    "    x[\"NGRF\"] = (trial.GetPoint(\"LNormalisedGRF\")).GetValues()\n",
    "    x[\"pelvisAngle\"] = (trial.GetPoint(\"LPelvisAngles\")).GetValues() \n",
    "    x[\"COM\"] = (trial.GetPoint(\"CentreOfMass\")).GetValues()\n",
    "    return x\n",
    "\n",
    "def extractintoDict(filename, TrialNum):\n",
    "    reader = btk.btkAcquisitionFileReader()\n",
    "    reader.SetFilename(filename) # set a filename to the reader\n",
    "    reader.Update()\n",
    "    trialacq = reader.GetOutput() # is the btk aquisition object\n",
    "    patient[\"Gait\"][TrialNum] ={}\n",
    "    patient[\"Gait\"][TrialNum].update({\"Left\": extractvalues(trialacq)})\n",
    "    patient[\"Gait\"][TrialNum].update({\"Right\": extractvalues(trialacq)})\n",
    "    patient[\"Gait\"][TrialNum].update({\"lfootstrikeFrame\":[]})\n",
    "    patient[\"Gait\"][TrialNum].update({\"rfootstrikeFrame\":[]})\n",
    "    patient[\"Gait\"][TrialNum].update({\"lfootoffFrame\":[]})\n",
    "    patient[\"Gait\"][TrialNum].update({\"rfootoffFrame\":[]})\n",
    "    patient[\"Gait\"][TrialNum].update({\"startframe\":trialacq.GetFirstFrame()})#first frame of data\n",
    "    # #instantiate the nested dict to input in the footstrike etc\n",
    "\n",
    "    \n",
    "    for i in range(trialacq.GetEventNumber()):\n",
    "        eventnum = trialacq.GetEvent(i)\n",
    "        if eventnum.GetLabel()==\"Foot Strike\":\n",
    "            if eventnum.GetContext() == \"Left\":\n",
    "                patient[\"Gait\"][TrialNum][\"lfootstrikeFrame\"].append(eventnum.GetFrame()-patient[\"Gait\"][TrialNum][\"startframe\"])\n",
    "            else:\n",
    "                patient[\"Gait\"][TrialNum][\"rfootstrikeFrame\"].append(eventnum.GetFrame()-patient[\"Gait\"][TrialNum][\"startframe\"])\n",
    "        if eventnum.GetLabel()==\"Foot Off\":\n",
    "            if eventnum.GetContext() == \"Left\":\n",
    "                patient[\"Gait\"][TrialNum][\"lfootoffFrame\"].append(eventnum.GetFrame()-patient[\"Gait\"][TrialNum][\"startframe\"])\n",
    "            else:\n",
    "                patient[\"Gait\"][TrialNum][\"rfootoffFrame\"].append(eventnum.GetFrame()-patient[\"Gait\"][TrialNum][\"startframe\"])\n",
    "\n",
    "    for event in [\"lfootstrikeFrame\", \"rfootstrikeFrame\", \"lfootoffFrame\", \"rfootoffFrame\"]:\n",
    "        patient[\"Gait\"][TrialNum][event].sort()   \n",
    "    \n",
    "    if len(patient[\"Gait\"][TrialNum][\"lfootstrikeFrame\"])>1:\n",
    "        patient[\"Gait\"][TrialNum][\"Left\"][\"KneeAngle\"] = cutcycle(patient[\"Gait\"][TrialNum][\"lfootstrikeFrame\"], patient[\"Gait\"][TrialNum][\"Left\"][\"KneeAngle\"])\n",
    "        patient[\"Gait\"][TrialNum][\"Left\"][\"KneeForce\"] = cutcycle(patient[\"Gait\"][TrialNum][\"lfootstrikeFrame\"], patient[\"Gait\"][TrialNum][\"Left\"][\"KneeForce\"])\n",
    "        patient[\"Gait\"][TrialNum][\"Left\"][\"KneeMoment\"] = cutcycle(patient[\"Gait\"][TrialNum][\"lfootstrikeFrame\"], patient[\"Gait\"][TrialNum][\"Left\"][\"KneeMoment\"])\n",
    "        patient[\"Gait\"][TrialNum][\"Left\"][\"KneePower\"] = cutcycle(patient[\"Gait\"][TrialNum][\"lfootstrikeFrame\"], patient[\"Gait\"][TrialNum][\"Left\"][\"KneePower\"])\n",
    "        \n",
    "        patient[\"Gait\"][TrialNum][\"Left\"][\"HipAngle\"] = cutcycle(patient[\"Gait\"][TrialNum][\"lfootstrikeFrame\"], patient[\"Gait\"][TrialNum][\"Left\"][\"HipAngle\"])\n",
    "        patient[\"Gait\"][TrialNum][\"Left\"][\"HipForce\"] = cutcycle(patient[\"Gait\"][TrialNum][\"lfootstrikeFrame\"], patient[\"Gait\"][TrialNum][\"Left\"][\"HipForce\"])\n",
    "        patient[\"Gait\"][TrialNum][\"Left\"][\"HipMoment\"] = cutcycle(patient[\"Gait\"][TrialNum][\"lfootstrikeFrame\"], patient[\"Gait\"][TrialNum][\"Left\"][\"HipMoment\"])\n",
    "        patient[\"Gait\"][TrialNum][\"Left\"][\"HipPower\"] = cutcycle(patient[\"Gait\"][TrialNum][\"lfootstrikeFrame\"], patient[\"Gait\"][TrialNum][\"Left\"][\"HipPower\"])\n",
    "        \n",
    "        patient[\"Gait\"][TrialNum][\"Left\"][\"AnkleAngle\"] = cutcycle(patient[\"Gait\"][TrialNum][\"lfootstrikeFrame\"], patient[\"Gait\"][TrialNum][\"Left\"][\"AnkleAngle\"])\n",
    "        patient[\"Gait\"][TrialNum][\"Left\"][\"AnkleForce\"] = cutcycle(patient[\"Gait\"][TrialNum][\"lfootstrikeFrame\"], patient[\"Gait\"][TrialNum][\"Left\"][\"AnkleForce\"])\n",
    "        patient[\"Gait\"][TrialNum][\"Left\"][\"AnkleMoment\"] = cutcycle(patient[\"Gait\"][TrialNum][\"lfootstrikeFrame\"], patient[\"Gait\"][TrialNum][\"Left\"][\"AnkleMoment\"])\n",
    "        patient[\"Gait\"][TrialNum][\"Left\"][\"AnklePower\"] = cutcycle(patient[\"Gait\"][TrialNum][\"lfootstrikeFrame\"], patient[\"Gait\"][TrialNum][\"Left\"][\"AnklePower\"])\n",
    "    \n",
    "        patient[\"Gait\"][TrialNum][\"Left\"][\"FootProgressAngle\"] =cutcycle(patient[\"Gait\"][TrialNum][\"lfootstrikeFrame\"], patient[\"Gait\"][TrialNum][\"Left\"][\"FootProgressAngle\"])\n",
    "        patient[\"Gait\"][TrialNum][\"Left\"][\"GRF\"] =cutcycle(patient[\"Gait\"][TrialNum][\"lfootstrikeFrame\"], patient[\"Gait\"][TrialNum][\"Left\"][\"GRF\"])\n",
    "        patient[\"Gait\"][TrialNum][\"Left\"][\"NGRF\"] =cutcycle(patient[\"Gait\"][TrialNum][\"lfootstrikeFrame\"], patient[\"Gait\"][TrialNum][\"Left\"][\"NGRF\"])\n",
    "        patient[\"Gait\"][TrialNum][\"Left\"][\"pelvisAngle\"] =cutcycle(patient[\"Gait\"][TrialNum][\"lfootstrikeFrame\"], patient[\"Gait\"][TrialNum][\"Left\"][\"pelvisAngle\"])  \n",
    "        patient[\"Gait\"][TrialNum][\"Left\"][\"COM\"] =cutcycle(patient[\"Gait\"][TrialNum][\"lfootstrikeFrame\"], patient[\"Gait\"][TrialNum][\"Left\"][\"COM\"])\n",
    "    #else:\n",
    "        #print(\"no full left limb gait cycle\")\n",
    "    if len(patient[\"Gait\"][TrialNum][\"rfootstrikeFrame\"])>1:\n",
    "        patient[\"Gait\"][TrialNum][\"Right\"][\"KneeAngle\"] = cutcycle(patient[\"Gait\"][TrialNum][\"rfootstrikeFrame\"], patient[\"Gait\"][TrialNum][\"Right\"][\"KneeAngle\"])\n",
    "        patient[\"Gait\"][TrialNum][\"Right\"][\"KneeForce\"] = cutcycle(patient[\"Gait\"][TrialNum][\"rfootstrikeFrame\"], patient[\"Gait\"][TrialNum][\"Right\"][\"KneeForce\"])\n",
    "        patient[\"Gait\"][TrialNum][\"Right\"][\"KneeMoment\"] = cutcycle(patient[\"Gait\"][TrialNum][\"rfootstrikeFrame\"], patient[\"Gait\"][TrialNum][\"Right\"][\"KneeMoment\"])\n",
    "        patient[\"Gait\"][TrialNum][\"Right\"][\"KneePower\"] = cutcycle(patient[\"Gait\"][TrialNum][\"rfootstrikeFrame\"], patient[\"Gait\"][TrialNum][\"Right\"][\"KneePower\"])\n",
    "        \n",
    "        patient[\"Gait\"][TrialNum][\"Right\"][\"HipAngle\"] = cutcycle(patient[\"Gait\"][TrialNum][\"rfootstrikeFrame\"], patient[\"Gait\"][TrialNum][\"Right\"][\"HipAngle\"])\n",
    "        patient[\"Gait\"][TrialNum][\"Right\"][\"HipForce\"] = cutcycle(patient[\"Gait\"][TrialNum][\"rfootstrikeFrame\"], patient[\"Gait\"][TrialNum][\"Right\"][\"HipForce\"])\n",
    "        patient[\"Gait\"][TrialNum][\"Right\"][\"HipMoment\"] = cutcycle(patient[\"Gait\"][TrialNum][\"rfootstrikeFrame\"], patient[\"Gait\"][TrialNum][\"Right\"][\"HipMoment\"])\n",
    "        patient[\"Gait\"][TrialNum][\"Right\"][\"HipPower\"] = cutcycle(patient[\"Gait\"][TrialNum][\"rfootstrikeFrame\"], patient[\"Gait\"][TrialNum][\"Right\"][\"HipPower\"])\n",
    "        \n",
    "        patient[\"Gait\"][TrialNum][\"Right\"][\"AnkleAngle\"] = cutcycle(patient[\"Gait\"][TrialNum][\"rfootstrikeFrame\"], patient[\"Gait\"][TrialNum][\"Right\"][\"AnkleAngle\"])\n",
    "        patient[\"Gait\"][TrialNum][\"Right\"][\"AnkleForce\"] = cutcycle(patient[\"Gait\"][TrialNum][\"rfootstrikeFrame\"], patient[\"Gait\"][TrialNum][\"Right\"][\"AnkleForce\"])\n",
    "        patient[\"Gait\"][TrialNum][\"Right\"][\"AnkleMoment\"] = cutcycle(patient[\"Gait\"][TrialNum][\"rfootstrikeFrame\"], patient[\"Gait\"][TrialNum][\"Right\"][\"AnkleMoment\"])\n",
    "        patient[\"Gait\"][TrialNum][\"Right\"][\"AnklePower\"] = cutcycle(patient[\"Gait\"][TrialNum][\"rfootstrikeFrame\"], patient[\"Gait\"][TrialNum][\"Right\"][\"AnklePower\"])\n",
    "        \n",
    "        patient[\"Gait\"][TrialNum][\"Right\"][\"FootProgressAngle\"] =cutcycle(patient[\"Gait\"][TrialNum][\"rfootstrikeFrame\"], patient[\"Gait\"][TrialNum][\"Right\"][\"FootProgressAngle\"])\n",
    "        patient[\"Gait\"][TrialNum][\"Right\"][\"GRF\"] =cutcycle(patient[\"Gait\"][TrialNum][\"rfootstrikeFrame\"], patient[\"Gait\"][TrialNum][\"Right\"][\"GRF\"])\n",
    "        patient[\"Gait\"][TrialNum][\"Right\"][\"NGRF\"] =cutcycle(patient[\"Gait\"][TrialNum][\"rfootstrikeFrame\"], patient[\"Gait\"][TrialNum][\"Right\"][\"NGRF\"])\n",
    "        patient[\"Gait\"][TrialNum][\"Right\"][\"pelvisAngle\"] =cutcycle(patient[\"Gait\"][TrialNum][\"rfootstrikeFrame\"], patient[\"Gait\"][TrialNum][\"Right\"][\"pelvisAngle\"])\n",
    "        patient[\"Gait\"][TrialNum][\"Right\"][\"COM\"] =cutcycle(patient[\"Gait\"][TrialNum][\"rfootstrikeFrame\"], patient[\"Gait\"][TrialNum][\"Right\"][\"COM\"])\n",
    "    # else:\n",
    "    #     print(\"no full right limb gait cycle\")\n",
    "    \n",
    "    for LR in ['Right','Left']:\n",
    "        for key in patient[\"Gait\"][TrialNum][LR].keys():\n",
    "            arr = patient[\"Gait\"][TrialNum][LR][key]\n",
    "            patient[\"Gait\"][TrialNum][LR][key] = {\n",
    "                    'x':arr[:,0].tolist(),\n",
    "                    'y':arr[:,1].tolist(),\n",
    "                    'z':arr[:,2].tolist()\n",
    "                    }\n",
    "     \n",
    "    #call other function\"returnvalues\" to extract rest of data\n",
    "    #returnvalues(trialacq)\n",
    "    global ID\n",
    "    ID = trialacq.GetEvent(0).GetSubject()\n",
    "    vID.set(ID)"
   ]
  },
  {
   "cell_type": "markdown",
   "metadata": {},
   "source": [
    "repeated 6x\n",
    "\n",
    "if there is a complete cycle:\n",
    "- updates the label to say \"Clean left (or right) gait cycle\"\n",
    "- updates variable cleanleft1 to say \"Yes\" instead of \"No\"\n",
    "\n",
    "\n",
    "if there is not a complete cycle\n",
    "- updates the label to say \"Incomplete Left gait cycle\""
   ]
  },
  {
   "cell_type": "code",
   "execution_count": null,
   "metadata": {},
   "outputs": [],
   "source": [
    "def cleanvalues1():\n",
    "    if len(patient[\"Gait\"][\"Trial 1\"][\"lfootstrikeFrame\"])>1:\n",
    "        label_clean1.configure(text = \"Clean Left Gait Cycle\")\n",
    "        global cleanleft1\n",
    "        cleanleft1 = \"Yes\"\n",
    "    else:\n",
    "        label_clean1.configure(text = \"Incomplete Left Gait Cycle\")\n",
    "    if len(patient[\"Gait\"][\"Trial 1\"][\"rfootstrikeFrame\"])>1:\n",
    "        label_clean1r.configure(text = \"Clean Right Gait Cycle\")\n",
    "        global cleanright1\n",
    "        cleanright1 = \"Yes\"\n",
    "    else:\n",
    "        label_clean1r.configure(text = \"Incomplete Right Gait Cycle\")\n",
    "        "
   ]
  },
  {
   "cell_type": "markdown",
   "metadata": {},
   "source": [
    "**new_index**\\\n",
    "The index values of the events are updated for the new cut data.\\\n",
    "Aslo, any negative events are deleted(events occuring before the first footstrike)"
   ]
  },
  {
   "cell_type": "code",
   "execution_count": null,
   "metadata": {},
   "outputs": [],
   "source": [
    "def new_index(filename, TrialNum):\n",
    "    if len(patient[\"Gait\"][TrialNum][\"lfootstrikeFrame\"])>1:\n",
    "        patient[\"Gait\"][TrialNum][\"lfootoffFrame\"]=(np.array(patient[\"Gait\"][TrialNum][\"lfootoffFrame\"])- \n",
    "                                                    (patient[\"Gait\"][TrialNum][\"lfootstrikeFrame\"])[0]).tolist()\n",
    "        patient[\"Gait\"][TrialNum][\"lfootstrikeFrame\"]=(np.array(patient[\"Gait\"][TrialNum][\"lfootstrikeFrame\"])-\n",
    "                                                       (patient[\"Gait\"][TrialNum][\"lfootstrikeFrame\"])[0]).tolist()\n",
    "    for item in patient[\"Gait\"][TrialNum][\"lfootoffFrame\"]:\n",
    "        if item <0:\n",
    "            patient[\"Gait\"][TrialNum][\"lfootoffFrame\"].remove(item)\n",
    " \n",
    "    if len(patient[\"Gait\"][TrialNum][\"rfootstrikeFrame\"])>1:\n",
    "        patient[\"Gait\"][TrialNum][\"rfootoffFrame\"]=(np.array(patient[\"Gait\"][TrialNum][\"rfootoffFrame\"])-\n",
    "          (patient[\"Gait\"][TrialNum][\"rfootstrikeFrame\"])[0]).tolist()\n",
    "        patient[\"Gait\"][TrialNum][\"rfootstrikeFrame\"]=(np.array(patient[\"Gait\"][TrialNum][\"rfootstrikeFrame\"])-\n",
    "          (patient[\"Gait\"][TrialNum][\"rfootstrikeFrame\"])[0]).tolist()\n",
    "    for item in patient[\"Gait\"][TrialNum][\"rfootoffFrame\"]:\n",
    "        if item <0:\n",
    "            patient[\"Gait\"][TrialNum][\"rfootoffFrame\"].remove(item)  "
   ]
  },
  {
   "cell_type": "markdown",
   "metadata": {},
   "source": [
    "closes the window "
   ]
  },
  {
   "cell_type": "code",
   "execution_count": null,
   "metadata": {},
   "outputs": [],
   "source": [
    "def close_window():\n",
    "    root.destroy()"
   ]
  },
  {
   "cell_type": "markdown",
   "metadata": {},
   "source": [
    "# Widgets"
   ]
  },
  {
   "cell_type": "markdown",
   "metadata": {},
   "source": [
    "set up the dictionary"
   ]
  },
  {
   "cell_type": "code",
   "execution_count": null,
   "metadata": {},
   "outputs": [],
   "source": [
    "\"\"\"Initialise the Dict\"\"\"\n",
    "patient = {}\n",
    "patient[\"Gait\"] = {}"
   ]
  },
  {
   "cell_type": "markdown",
   "metadata": {},
   "source": [
    "Label at top of window with description of GUI"
   ]
  },
  {
   "cell_type": "code",
   "execution_count": 6,
   "metadata": {},
   "outputs": [],
   "source": [
    "\"\"\"GUI Widgets\"\"\"\n",
    "#FRAME 1: INFO\n",
    "label_info1 = Label(FrameLabel, \n",
    "                    text = \"\"\"Please select at least 3 Gait trials. \n",
    "                    Ensure a minimum of 3 complete gait cycles on each limb. \"\"\", \n",
    "                   bg = \"ivory3\", height = 2)\n",
    "label_info1.grid()\n",
    "label_info2 = Label(FrameLabel, \n",
    "                    text = \"Input the patient data and select Accept to enter into the database.\", \n",
    "                    bg = \"ivory3\", height = 2)\n",
    "label_info2.grid()"
   ]
  },
  {
   "cell_type": "markdown",
   "metadata": {},
   "source": [
    "This block of code is repeated 6 times for each of the trials. Could potentially be made into a class but then would be harder to call a function which then feeds back into the GUI (the labels)\\\n",
    "\n",
    "The button contains the text \"Select Trial 1\". When clicked, this calls the function \"browse files 1\" which brings up the file explorer. The file selected in an argument for the next function the button calls (extractintoDict) which breaks down the c3d file and extracts and sorts the data into a dictionary. It also detects the events(heelstrike, foot off) which are used to normalise the data (if complete clean cycle). If there is a complete clean cycle, the clean values function detects this and updates the label widget as to if the limb has a complete cycle or not.\n",
    "\n",
    "The other widgets include the label for the filename and the labels for displaying if the limb has clean data or not.\n"
   ]
  },
  {
   "cell_type": "code",
   "execution_count": 7,
   "metadata": {},
   "outputs": [],
   "source": [
    "#FRAMES 2-7: INDIVIDUAL TRIAL SELECTIONS\n",
    "button_explore1 = Button(FrameTrial1, text = \"Select Trial 1\",  width = 12, bg = \"ghost white\",\n",
    "                         command = lambda : [browseFiles1(), extractintoDict(filename1, \"Trial 1\"), \n",
    "                                             cleanvalues1(), new_index(filename1, \"Trial 1\")])  \n",
    "label_file_explorer1 = Label(FrameTrial1,  text = \"\", width = 80, height = 3 ,  fg = \"blue\" , bg = \"ghost white\") \n",
    "button_explore1.grid(column = 1, row = 1, rowspan = 2) \n",
    "label_file_explorer1.grid(column = 2, row = 1, columnspan = 7, rowspan = 2) \n",
    "label_clean1 = Label(FrameTrial1, text=\"\",  width = 25, bg = \"ivory3\")\n",
    "label_clean1.grid(column = 10, row = 1)\n",
    "label_clean1r = Label(FrameTrial1, text=\"\",  width = 25, bg = \"ivory3\")\n",
    "label_clean1r.grid(column = 10, row = 2)"
   ]
  },
  {
   "cell_type": "markdown",
   "metadata": {},
   "source": [
    "The Frame containing th patient info inputs\\\n",
    "The select trial button automatically updates the Patient ID entry box, but can be overwritten\\\n",
    "\n",
    "A radiobutton option for inputting Dominant limb as \"Left\", \"right\" or \"N/A\" with the input saved as vDom\\\n",
    "\n",
    "A class exists for the widgets that are only applicable in some cases, which allow them to be disabled or normal.\\\n",
    "The widgets included in this class include a drop down menu (optionmenu) for the patient type. This is control, pre-op or post-op. It also includes a entry box for number of months post-op and a radiobutton for which limb is affected\\\n",
    "- if patient type is \"Control\", the entrybox and the radiobutton is disabled since neither limb is affected and they have had no operation\n",
    "- if the patient type is \"Pre-op\" the radiobutton is normal to allow them to select the limb they will have an operation on, but the entry box is disabled\n",
    "- if the patienttype is \"Post-Op\", both the radio button and the entry box are normal. Simply entry the number of months since the operation (if in years, calculate the number of months)\n"
   ]
  },
  {
   "cell_type": "code",
   "execution_count": null,
   "metadata": {},
   "outputs": [],
   "source": [
    "#FRAME 8: INPuT PATIENT DATA\n",
    "labelID = Label(FrameInfo,  text = \"Patient ID: \", bg = \"ivory3\") \n",
    "labelID.grid(column = 1, row = 1)\n",
    "vID = StringVar()\n",
    "entryID = Entry(FrameInfo,  textvariable = vID,   fg = \"purple4\", width = 20) \n",
    "entryID.grid(column = 2, row = 1, columnspan = 3)\n",
    "labelDom = Label(FrameInfo,  text = \"Dominant Limb: \", bg = \"ivory3\") \n",
    "labelDom.grid(column = 1, row = 2)\n",
    "vDom = StringVar()\n",
    "vDom.set(0)\n",
    "radioleftdom = Radiobutton(FrameInfo, text=\"Left\",variable= vDom, value=\"Left\")\n",
    "radioleftdom.grid(column = 2, row = 2)\n",
    "radiorightdom = Radiobutton(FrameInfo, text=\"Right\",variable =vDom, value=\"Right\")\n",
    "radiorightdom.grid(column = 3, row = 2)\n",
    "radiorightdom = Radiobutton(FrameInfo, text=\"N/A\",variable =vDom, value=\"N/A\")\n",
    "radiorightdom.grid(column = 4, row = 2)\n",
    "\n",
    "class Pattype:\n",
    "    def disable(self, master):\n",
    "        if vtype.get() == \"Post-op\":\n",
    "            self.month_entry.configure(state = \"normal\")\n",
    "            self.date_label.configure(state = \"normal\")\n",
    "            self.limb_label.configure(state = \"normal\")\n",
    "            self.radioleft.configure(state = \"normal\")\n",
    "            self.radioright.configure(state = \"normal\")\n",
    "            self.radioboth.configure(state = \"normal\")\n",
    "        if vtype.get() == \"Control\":\n",
    "            self.month_entry.configure(state = \"disabled\")\n",
    "            self.date_label.configure(state = \"disabled\")\n",
    "            self.limb_label.configure(state = \"disabled\")\n",
    "            self.radioleft.configure(state = \"disabled\")\n",
    "            self.radioright.configure(state = \"disabled\")\n",
    "            self.radioboth.configure(state = \"disabled\")\n",
    "        if vtype.get() == \"Pre-op\":\n",
    "            self.month_entry.configure(state = \"disabled\")\n",
    "            self.date_label.configure(state = \"disabled\")    \n",
    "            self.limb_label.configure(state = \"normal\")\n",
    "            self.radioleft.configure(state = \"normal\")\n",
    "            self.radioright.configure(state = \"normal\")\n",
    "            self.radioboth.configure(state = \"normal\")\n",
    "            \n",
    "    def __init__(self, master):\n",
    "        self.label_type = Label(FrameInfo, text = \"Patient Type: \", bg = \"ivory3\")\n",
    "        self.label_type.grid(column = 1, row = 3)\n",
    "        global vtype\n",
    "        vtype = StringVar()\n",
    "        self.optiontype = OptionMenu(FrameInfo, vtype, \"Pre-op\", \"Post-op\", \"Control\", \n",
    "                                     command = self.disable)\n",
    "        self.optiontype.config(width = 20)\n",
    "        self.optiontype.grid(column = 2, row = 3, columnspan  =3)\n",
    "        \n",
    "        self.date_label = Label(FrameInfo, text = \"Number of months Post - Op: \", bg = \"ivory3\")\n",
    "        self.date_label.grid(column = 1, row  = 4)\n",
    "        global vmonth\n",
    "        vmonth = IntVar()\n",
    "        self.month_entry = Entry(FrameInfo, textvariable = vmonth, width = 20, fg = \"purple4\")\n",
    "        self.month_entry.grid(column = 2, row = 4, columnspan  = 3)\n",
    "        \n",
    "        self.limb_label = Label(FrameInfo, text = \"Affected Limb: \", bg = \"ivory3\")\n",
    "        self.limb_label.grid(column = 1, row  = 5)\n",
    "        global vlimb\n",
    "        vlimb = StringVar()\n",
    "        vlimb.set(0)\n",
    "        self.radioleft = Radiobutton(FrameInfo, text=\"Left\",variable= vlimb, value=\"Left\")\n",
    "        self.radioleft.grid(column = 2, row = 5)\n",
    "        self.radioright = Radiobutton(FrameInfo, text=\"Right\",variable=vlimb, value=\"Right\")\n",
    "        self.radioright.grid(column = 3, row = 5)\n",
    "        self.radioboth = Radiobutton(FrameInfo, text=\"Both\",variable=vlimb, value=\"Both\")\n",
    "        self.radioboth.grid(column = 4, row = 5)     \n",
    "Pattype(FrameInfo)"
   ]
  },
  {
   "cell_type": "markdown",
   "metadata": {},
   "source": [
    "inputs patient data into Patient_Data table. If less than 6 files, will input filenames as Null or None values"
   ]
  },
  {
   "cell_type": "code",
   "execution_count": null,
   "metadata": {},
   "outputs": [],
   "source": [
    "def enter_patient_data():\n",
    "    c.execute(\"\"\"INSERT INTO Patient_Data\n",
    "              (ID, Dominant_Limb, Patient_Type, Month, Affected_Limb,\n",
    "              Filename_Gait_Trial_1, Filename_Gait_Trial_2, Filename_Gait_Trial_3,\n",
    "              Filename_Gait_Trial_4, Filename_Gait_Trial_5, Filename_Gait_Trial_6)\n",
    "              VALUES (?,?,?,?,?,?,?,?,?,?,?)\"\"\",\n",
    "              (vID.get(), vDom.get(), vtype.get(), vmonth.get(), vlimb.get(),\n",
    "               filename1, filename2, filename3, filename4, filename5, filename6))"
   ]
  },
  {
   "cell_type": "markdown",
   "metadata": {},
   "source": [
    "input data into Gait_table\n",
    "\n",
    "**NOTE**: The list of the full datasets are turned into strings and the open and close bracket are removed. To turn back into a list just use the split fucntion with the deliminator = \",\""
   ]
  },
  {
   "cell_type": "code",
   "execution_count": null,
   "metadata": {},
   "outputs": [],
   "source": [
    "def enter_Gait_Table (numTrials):\n",
    "    for TrialNum in numTrials:\n",
    "        if TrialNum==\"Trial 1\":\n",
    "            filename = filename1\n",
    "            cleanleft = cleanleft1\n",
    "            cleanright = cleanright1\n",
    "        if TrialNum==\"Trial 2\":\n",
    "            filename = filename2\n",
    "            cleanleft = cleanleft2\n",
    "            cleanright = cleanright2\n",
    "        if TrialNum==\"Trial 3\":\n",
    "            filename = filename3\n",
    "            cleanleft = cleanleft3\n",
    "            cleanright = cleanright3\n",
    "        if TrialNum==\"Trial 4\":\n",
    "            filename = filename4\n",
    "            cleanleft = cleanleft4\n",
    "            cleanright = cleanright4\n",
    "        if TrialNum==\"Trial 5\":\n",
    "            filename = filename5\n",
    "            cleanleft = cleanleft5\n",
    "            cleanright = cleanright5\n",
    "        if TrialNum==\"Trial 6\":\n",
    "            filename = filename6\n",
    "            cleanleft = cleanleft6\n",
    "            cleanright = cleanright6\n",
    "         \n",
    "        c.execute(\"\"\"INSERT INTO Gait_Table \n",
    "                  (Filename, Complete_left_Cycle, Complete_Right_Cycle, \n",
    "                  Left_Footstrike_Index, Left_FootOff_Index, \n",
    "                  Right_Footstrike_Index, Right_FootOff_Index) \n",
    "                  VALUES (?,?,?,?,?,?,?)\"\"\", (filename, cleanleft, cleanright,\n",
    "                  (str(patient[\"Gait\"][TrialNum][\"lfootstrikeFrame\"])),\n",
    "                  (str(patient[\"Gait\"][TrialNum][\"lfootoffFrame\"])),\n",
    "                  (str(patient[\"Gait\"][TrialNum][\"rfootstrikeFrame\"])),\n",
    "                  (str(patient[\"Gait\"][TrialNum][\"rfootoffFrame\"]))))\n",
    "        for LR in [\"Left\", \"Right\"]:\n",
    "            for axis in [\"x\", \"y\", \"z\"]:\n",
    "                c.execute(f\"\"\"UPDATE Gait_Table\n",
    "                          SET \n",
    "                          {LR}_Knee_Angle_{axis} = ?,\n",
    "                          {LR}_Knee_Moment_{axis} = ?,\n",
    "                          {LR}_Knee_Force_{axis} = ?,\n",
    "                          {LR}_Knee_Power_{axis} = ?,\n",
    "                          {LR}_Hip_Angle_{axis} = ?,\n",
    "                          {LR}_Hip_Moment_{axis} = ?,\n",
    "                          {LR}_Hip_Force_{axis} = ?,\n",
    "                          {LR}_Hip_Power_{axis} = ?,\n",
    "                          {LR}_Ankle_Angle_{axis} = ?,\n",
    "                          {LR}_Ankle_Moment_{axis} = ?,\n",
    "                          {LR}_Ankle_Force_{axis} = ?,\n",
    "                          {LR}_Ankle_Power_{axis} =  ?,\n",
    "                          {LR}_Foot_Progression_Angle_{axis} = ?,\n",
    "                          {LR}_GRF_{axis} =  ?,\n",
    "                          {LR}_NGRF_{axis} =  ?,\n",
    "                          {LR}_pelvis_Angle_{axis} =  ?,\n",
    "                          {LR}_COM_{axis} =  ?\n",
    "                          WHERE Filename = ?\n",
    "                          \"\"\",(\n",
    "                          (str(patient[\"Gait\"][TrialNum][LR][\"KneeAngle\"][axis])[1:-1]),\n",
    "                          (str(patient[\"Gait\"][TrialNum][LR][\"KneeMoment\"][axis])[1:-1]),\n",
    "                          (str(patient[\"Gait\"][TrialNum][LR][\"KneeForce\"][axis])[1:-1]),\n",
    "                          (str(patient[\"Gait\"][TrialNum][LR][\"KneePower\"][axis])[1:-1]),\n",
    "                          (str(patient[\"Gait\"][TrialNum][LR][\"HipAngle\"][axis])[1:-1]),\n",
    "                          (str(patient[\"Gait\"][TrialNum][LR][\"HipMoment\"][axis])[1:-1]),\n",
    "                          (str(patient[\"Gait\"][TrialNum][LR][\"HipForce\"][axis])[1:-1]),\n",
    "                          (str(patient[\"Gait\"][TrialNum][LR][\"HipPower\"][axis])[1:-1]),\n",
    "                          (str(patient[\"Gait\"][TrialNum][LR][\"AnkleAngle\"][axis])[1:-1]),\n",
    "                          (str(patient[\"Gait\"][TrialNum][LR][\"AnkleMoment\"][axis])[1:-1]),\n",
    "                          (str(patient[\"Gait\"][TrialNum][LR][\"AnkleForce\"][axis])[1:-1]),\n",
    "                          (str(patient[\"Gait\"][TrialNum][LR][\"AnklePower\"][axis])[1:-1]),\n",
    "                          (str(patient[\"Gait\"][TrialNum][LR][\"FootProgressAngle\"][axis])[1:-1]),\n",
    "                          (str(patient[\"Gait\"][TrialNum][LR][\"GRF\"][axis])[1:-1]),\n",
    "                          (str(patient[\"Gait\"][TrialNum][LR][\"NGRF\"][axis])[1:-1]),\n",
    "                          (str(patient[\"Gait\"][TrialNum][LR][\"pelvisAngle\"][axis])[1:-1]),\n",
    "                          (str(patient[\"Gait\"][TrialNum][LR][\"COM\"][axis])[1:-1]),\n",
    "                          filename\n",
    "                          ))"
   ]
  },
  {
   "cell_type": "markdown",
   "metadata": {},
   "source": [
    "\n",
    "Final Frame with two buttons: Accept and Cancel. \n",
    "- \"Accept\" will add the data into the database and close the window\n",
    "- \"Cancel\" will just close the window without adding into the database"
   ]
  },
  {
   "cell_type": "code",
   "execution_count": null,
   "metadata": {},
   "outputs": [],
   "source": [
    "buttonaccept = Button(FrameClose, text = \"Accept\", \n",
    "                      command  = lambda: [enter_patient_data(), enter_Gait_Table(numTrialslist), close_window()])\n",
    "buttonaccept.grid(column = 1, row = 1, padx = 10, pady = 20)\n",
    "buttoncancel = Button(FrameClose, text = \"Cancel\", command = lambda: close_window())\n",
    "buttoncancel.grid(column=2, row  = 1, padx = 10)"
   ]
  },
  {
   "cell_type": "markdown",
   "metadata": {},
   "source": [
    "close the GUI by running the mainloop"
   ]
  },
  {
   "cell_type": "code",
   "execution_count": null,
   "metadata": {},
   "outputs": [],
   "source": [
    "root.mainloop()"
   ]
  },
  {
   "cell_type": "markdown",
   "metadata": {},
   "source": [
    "writes the dictionary into a unique filename which can be used as backup?"
   ]
  },
  {
   "cell_type": "code",
   "execution_count": null,
   "metadata": {},
   "outputs": [],
   "source": [
    "\"\"\"Write Dict to JSON\"\"\"\n",
    "name = ID + pattype + str(month) + \".json\"\n",
    "with open(name, 'w') as f:\n",
    "      json.dump(patient, f, indent = 5)\n"
   ]
  },
  {
   "cell_type": "markdown",
   "metadata": {},
   "source": [
    "Prints everythig in the both tables to make sure it has been inputted into the SQLite database"
   ]
  },
  {
   "cell_type": "code",
   "execution_count": null,
   "metadata": {},
   "outputs": [],
   "source": [
    "def selectall():\n",
    "    c.execute(\"\"\"SELECT * FROM Gait_Table\"\"\")\n",
    "    rows = c.fetchall()\n",
    "    for row in rows:\n",
    "        print(row)\n",
    "\n",
    "def selectall2():\n",
    "    c.execute(\"\"\"SELECT * FROM Patient_Data\"\"\")\n",
    "    lines = c.fetchall()\n",
    "    for line in lines:\n",
    "        print(line)\n",
    "        \n",
    "        \n",
    "def selectall3():\n",
    "    c.execute(\"\"\"SELECT Filename, \n",
    "              Complete_Left_Cycle, Complete_Right_Cycle, \n",
    "              Left_Footstrike_Index, Left_FootOff_Index,\n",
    "              Right_Footstrike_Index, Right_FootOff_Index \n",
    "              FROM Gait_Table\"\"\")\n",
    "    lines = c.fetchall()\n",
    "    for line in lines:\n",
    "        print(line)\n",
    "        #\n",
    "#selectall()  \n",
    "selectall2()\n",
    "selectall3()\n"
   ]
  },
  {
   "cell_type": "markdown",
   "metadata": {},
   "source": [
    "Close SQL"
   ]
  },
  {
   "cell_type": "code",
   "execution_count": null,
   "metadata": {},
   "outputs": [],
   "source": [
    "\"\"\"Close SQLite Connection\"\"\"\n",
    "conn.commit()\n",
    "conn.close()   "
   ]
  }
 ],
 "metadata": {
  "kernelspec": {
   "display_name": "Python 3",
   "language": "python",
   "name": "python3"
  },
  "language_info": {
   "codemirror_mode": {
    "name": "ipython",
    "version": 3
   },
   "file_extension": ".py",
   "mimetype": "text/x-python",
   "name": "python",
   "nbconvert_exporter": "python",
   "pygments_lexer": "ipython3",
   "version": "3.7.6"
  }
 },
 "nbformat": 4,
 "nbformat_minor": 4
}
