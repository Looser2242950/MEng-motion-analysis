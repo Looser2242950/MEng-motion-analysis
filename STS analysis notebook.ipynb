{
 "cells": [
  {
   "cell_type": "markdown",
   "metadata": {},
   "source": [
    "same as the other codes to create a array of the numpy data"
   ]
  },
  {
   "cell_type": "code",
   "execution_count": null,
   "metadata": {},
   "outputs": [],
   "source": [
    "cd C:\\Users\\Ordinateur\\Documents #Current directory where the CSV file is \n",
    " \n",
    "import csv\n",
    "\n",
    "limb='L' # Definition of the operated limb\n",
    "\n",
    "# Trial 1\n",
    "\n",
    "fname_trial1=\"MB 067 STS 01.csv\" # Name of the CSV file \"... .csv\"\n",
    "\n",
    "Trial1=[] # Initialisation of list Trial 1 \n",
    "k = 0 # Initialisation of iterable k \n",
    "with open(fname_trial1, \"r\", newline ='') as f1: \n",
    "        reader = csv.reader(f1, delimiter=',') # Read CSV file\n",
    "        for row in reader:\n",
    "                temporary_line = []\n",
    "                if k > 4: # First five lines contain str (=character) :Column ..., MB0...:..., X/Y/Z\n",
    "                        for element in row:\n",
    "                                if element != '':  \n",
    "                                        temporary_line.append(float(element))\n",
    "                                else:\n",
    "                                        temporary_line.append(0)\n",
    "                        if len(temporary_line) > 0:\n",
    "                                Trial1.append(temporary_line) # Any non-empty and non-zero element is added to the list Trial 1 as a float (=decimal number)\n",
    "                k+=1\n",
    "\n",
    "import numpy as np\n",
    "array_trial1 = np.asarray(Trial1)"
   ]
  },
  {
   "cell_type": "markdown",
   "metadata": {},
   "source": [
    "**VGRF = Vertical Ground Reaction Force**<br>\n",
    "the vertical force on right leg (Fz in Newtons) is on column 4. This is made negative because its a downward force <br>\n",
    "the left leg is column index 13\n",
    "\n",
    "the next two lines find the max force in the left and right leg"
   ]
  },
  {
   "cell_type": "code",
   "execution_count": null,
   "metadata": {},
   "outputs": [],
   "source": [
    "vGRF_R_trial1_RD=array_trial1[:,4] #Vertical ground reaction force of the R limb\n",
    "vGRF_R_trial1=(-1)*vGRF_R_trial1_RD\n",
    "\n",
    "vGRF_L_trial1_RD=array_trial1[:,13] #Vertical ground reaction force of the L limb\n",
    "vGRF_L_trial1=(-1)*vGRF_L_trial1_RD\n",
    "\n",
    "max_vGRF_R_trial1 = np.amax(array_trial1[:,4]) # Peak of R vertical ground reaction force\n",
    "max_vGRF_L_trial1 = np.amax(array_trial1[:,13]) # Peak of L vertical ground reaction force"
   ]
  },
  {
   "cell_type": "markdown",
   "metadata": {},
   "source": [
    "each element in the array is 0.001 seconds. a list is made with times in steps of 0.001s"
   ]
  },
  {
   "cell_type": "code",
   "execution_count": null,
   "metadata": {},
   "outputs": [],
   "source": [
    "time_trial1=[] # Initialisation of list time trial 1\n",
    "n1=len(vGRF_L_trial1)\n",
    "i=0 # Initialisation of iterable i\n",
    "for i in range (n1):\n",
    "    time_trial1.append(i*0.001) # Time of trial 1\n"
   ]
  },
  {
   "cell_type": "markdown",
   "metadata": {},
   "source": [
    "In classical mechanics, impulse (symbolized by J or Imp) is the integral of a force, F, over the time interval.\n",
    "\n",
    "*The np.trapz command integrates parameter 1 (force) by parameter 2 (time) using the trapezoidal rule ???*"
   ]
  },
  {
   "cell_type": "code",
   "execution_count": null,
   "metadata": {},
   "outputs": [],
   "source": [
    "impulse_R_trial1=np.trapz(vGRF_R_trial1, time_trial1) # Determination of R impulse vertical ground reaction force using the trapezoidal rule \n",
    "impulse_L_trial1=np.trapz(vGRF_L_trial1, time_trial1) # Determination of L impulse vertical ground reaction force using the trapezoidal rule \n"
   ]
  },
  {
   "cell_type": "markdown",
   "metadata": {},
   "source": [
    "if the operated limb is the left, the peak ratio is the max left side force divided by the max right side force. if this is close to one it most equal.\n",
    "the impulse ratio is the left side impulse divided by right side impulse\n",
    "\n",
    "the oposite for if the right side is operated on"
   ]
  },
  {
   "cell_type": "code",
   "execution_count": null,
   "metadata": {},
   "outputs": [],
   "source": [
    "if limb=='L': # Conditional statement based on the operated limb\n",
    "    Peak_ratio_trial1=max_vGRF_L_trial1/max_vGRF_R_trial1 # Determination of peak vertical ground reaction force ratio for if the operated limb is the left \n",
    "    Impulse_ratio_trial1=impulse_L_trial1/impulse_R_trial1 # Determination of impulse vertical ground reaction force ratio for if the operated limb is the left \n",
    "else:\n",
    "    Peak_ratio_trial1=max_vGRF_R_trial1/max_vGRF_L_trial1 # Determination of peak vertical ground reaction force ratio if the operated limb is the right \n",
    "    Impulse_ratio_trial1=impulse_R_trial1/impulse_L_trial1 # Determination of impulse vertical ground reaction force ratio for if the operated limb is the right \n",
    "    \n",
    "print(\"Peak ratio trial 1: \", Peak_ratio_trial1,  \" - Impulse ratio trial 1:\", Impulse_ratio_trial1)"
   ]
  },
  {
   "cell_type": "markdown",
   "metadata": {},
   "source": [
    "repeat for trial 2 and 3"
   ]
  },
  {
   "cell_type": "code",
   "execution_count": null,
   "metadata": {},
   "outputs": [],
   "source": [
    "\n",
    "# Trial 2\n",
    "\n",
    "fname_trial2=\"MB 067 STS 02.csv\" # Name of the CSV file \"... .csv\"\n",
    "\n",
    "Trial2=[] # Initialisation of list Trial 1 \n",
    "k = 0 # Initialisation of iterable k \n",
    "with open(fname_trial2, \"r\", newline ='') as f2: \n",
    "        reader = csv.reader(f2, delimiter=',') # Read CSV file\n",
    "        for row in reader:\n",
    "                temporary_line = []\n",
    "                if k > 4: # First five lines contain str (=character) :Column ..., MB0...:..., X/Y/Z\n",
    "                        for element in row:\n",
    "                                if element != '':  \n",
    "                                        temporary_line.append(float(element))\n",
    "                                else:\n",
    "                                        temporary_line.append(0)\n",
    "                        if len(temporary_line) > 0:\n",
    "                                Trial2.append(temporary_line) # Any non-empty and non-zero element is added to the list Trial 1 as a float (=decimal number)\n",
    "                k+=1\n",
    "\n",
    "import numpy as np\n",
    "array_trial2 = np.asarray(Trial2)\n",
    "\n",
    "vGRF_R_trial2_RD=array_trial2[:,4] #Vertical ground reaction force of the R limb\n",
    "vGRF_R_trial2=(-1)*vGRF_R_trial2_RD\n",
    "\n",
    "vGRF_L_trial2_RD=array_trial2[:,13] #Vertical ground reaction force of the L limb\n",
    "vGRF_L_trial2=(-1)*vGRF_L_trial2_RD\n",
    "\n",
    "max_vGRF_R_trial2 = np.amax(array_trial2[:,4]) # Peak of R vertical ground reaction force\n",
    "max_vGRF_L_trial2 = np.amax(array_trial2[:,13]) # Peak of L vertical ground reaction force\n",
    "\n",
    "time_trial2=[] # Initialisation of list time trial 2\n",
    "n2=len(vGRF_L_trial2)\n",
    "i=0 # Initialisation of iterable i \n",
    "for i in range (n2):\n",
    "    time_trial2.append(i*0.001) # Time of trial 2\n",
    "\n",
    "impulse_R_trial2=np.trapz(vGRF_R_trial2, time_trial2) # Determination of R impulse vertical ground reaction force using the trapezoidal rule \n",
    "impulse_L_trial2=np.trapz(vGRF_L_trial2, time_trial2) # Determination of R impulse vertical ground reaction force using the trapezoidal rule \n",
    "\n",
    "if limb=='L': # Conditional statement based on the operated limb\n",
    "    Peak_ratio_trial2=max_vGRF_L_trial2/max_vGRF_R_trial2 # Determination of peak vertical ground reaction force ratio for if the operated limb is the left \n",
    "    Impulse_ratio_trial2=impulse_L_trial2/impulse_R_trial2 # Determination of impulse vertical ground reaction force ratio for if the operated limb is the left \n",
    "else:\n",
    "    Peak_ratio_trial2=max_vGRF_R_trial2/max_vGRF_L_trial2 # Determination of peak vertical ground reaction force ratio for if the operated limb is the right \n",
    "    Impulse_ratio_trial2=impulse_R_trial2/impulse_L_trial2 # Determination of impulse vertical ground reaction force ratio for if the operated limb is the right \n",
    "    \n",
    "print(\"Peak ratio trial 2: \", Peak_ratio_trial2,  \" - Impulse ratio trial 2:\", Impulse_ratio_trial2)\n",
    "\n",
    "# Trial 3\n",
    "\n",
    "fname_trial3=\"MB 067 STS 03.csv\" # Name of the CSV file \"... .csv\"\n",
    "\n",
    "Trial3=[] # Initialisation of list Trial 1 \n",
    "k = 0 # Initialisation of iterable k \n",
    "with open(fname_trial3, \"r\", newline ='') as f3: \n",
    "        reader = csv.reader(f3, delimiter=',') # Read CSV file\n",
    "        for row in reader:\n",
    "                temporary_line = []\n",
    "                if k > 4: # First five lines contain str (=character) :Column ..., MB0...:..., X/Y/Z\n",
    "                        for element in row:\n",
    "                                if element != '':  \n",
    "                                        temporary_line.append(float(element))\n",
    "                                else:\n",
    "                                        temporary_line.append(0)\n",
    "                        if len(temporary_line) > 0:\n",
    "                                Trial3.append(temporary_line) # Any non-empty and non-zero element is added to the list Trial 1 as a float (=decimal number)\n",
    "                k+=1\n",
    "\n",
    "import numpy as np\n",
    "array_trial3 = np.asarray(Trial3)\n",
    "\n",
    "vGRF_R_trial3_RD=array_trial3[:,4] #Vertical ground reaction force of the R limb\n",
    "vGRF_R_trial3=(-1)*vGRF_R_trial3_RD\n",
    "\n",
    "vGRF_L_trial3_RD=array_trial3[:,13] #Vertical ground reaction force of the L limb\n",
    "vGRF_L_trial3=(-1)*vGRF_L_trial3_RD\n",
    "\n",
    "max_vGRF_R_trial3 = np.amax(array_trial3[:,4]) # Peak of R vertical ground reaction force\n",
    "max_vGRF_L_trial3 = np.amax(array_trial3[:,13]) # Peak of L vertical ground reaction force\n",
    "\n",
    "time_trial3=[] # Initialisation of list time trial 3\n",
    "n3=len(vGRF_L_trial3)\n",
    "i=0 # Initialisation of iterable i \n",
    "for i in range (n3):\n",
    "    time_trial3.append(i*0.001) # Time of trial 3\n",
    "\n",
    "impulse_R_trial3=np.trapz(vGRF_R_trial3, time_trial3) # Determination of R impulse vertical ground reaction force using the trapezoidal rule \n",
    "impulse_L_trial3=np.trapz(vGRF_L_trial3, time_trial3) # Determination of R impulse vertical ground reaction force using the trapezoidal rule \n",
    "\n",
    "if limb=='L': # Conditional statement based on the operated limb\n",
    "    Peak_ratio_trial3=max_vGRF_L_trial3/max_vGRF_R_trial3 # Determination of peak vertical ground reaction force ratio for if the operated limb is the left \n",
    "    Impulse_ratio_trial3=impulse_L_trial3/impulse_R_trial3 # Determination of impulse vertical ground reaction force ratio for if the operated limb is the left \n",
    "else:\n",
    "    Peak_ratio_trial3=max_vGRF_R_trial3/max_vGRF_L_trial3 # Determination of peak vertical ground reaction force ratio for if the operated limb is the right \n",
    "    Impulse_ratio_trial3=impulse_R_trial3/impulse_L_trial3 # Determination of impulse vertical ground reaction force ratio for if the operated limb is the right \n",
    "    \n",
    "print(\"Peak ratio trial 3: \", Peak_ratio_trial3,  \" - Impulse ratio trial 3:\", Impulse_ratio_trial3)\n"
   ]
  },
  {
   "cell_type": "markdown",
   "metadata": {},
   "source": [
    "creates an array of the peak ratio and the impulse ratios of the three trials\n",
    "\n",
    "prints the peak ratio means and standard deviations and impulse ratio means and std"
   ]
  },
  {
   "cell_type": "code",
   "execution_count": null,
   "metadata": {},
   "outputs": [],
   "source": [
    "\n",
    "# STS results \n",
    "\n",
    "Peak_ratio_vGRF=np.array((Peak_ratio_trial1,Peak_ratio_trial2,Peak_ratio_trial3))\n",
    "Impulse_ratio=np.array((Impulse_ratio_trial1, Impulse_ratio_trial2, Impulse_ratio_trial3))\n",
    "\n",
    "print(\"Peak ratio vGRF: \", \"Mean :\", np.mean(Peak_ratio_vGRF), \"/ SD :\", np.std(Peak_ratio_vGRF))\n",
    "print(\"Impulse ratio :\", \"Mean :\",  np.mean(Impulse_ratio), \"/SD :\", np.std(Impulse_ratio))\n",
    "\n",
    "\n"
   ]
  }
 ],
 "metadata": {
  "kernelspec": {
   "display_name": "Python 3",
   "language": "python",
   "name": "python3"
  },
  "language_info": {
   "codemirror_mode": {
    "name": "ipython",
    "version": 3
   },
   "file_extension": ".py",
   "mimetype": "text/x-python",
   "name": "python",
   "nbconvert_exporter": "python",
   "pygments_lexer": "ipython3",
   "version": "3.7.6"
  }
 },
 "nbformat": 4,
 "nbformat_minor": 4
}
